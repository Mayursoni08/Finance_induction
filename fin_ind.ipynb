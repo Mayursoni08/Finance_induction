import pandas as pd
import numpy as np
from backtesting import Backtest, Strategy
from backtesting.test import GOOG

class ImprovedHybridStrategy(Strategy):
    # Indicator parameters
    ema_short_period = 20
    ema_long_period = 50
    macd_fast = 12
    macd_slow = 26
    macd_signal = 9
    adx_period = 14
    atr_period = 14

    # Risk management
    atr_mult_sl = 2     # SL = 2 * ATR
    atr_mult_tp = 3.5   # TP = 3.5 * ATR
    adx_threshold = 20

    def init(self):
        df = self.data.df
        close = df['Close']
        high = df['High']
        low = df['Low']

        # EMA Indicators
        ema_short = close.ewm(span=self.ema_short_period, adjust=False).mean()
        ema_long = close.ewm(span=self.ema_long_period, adjust=False).mean()

        # MACD Indicators
        macd_line = close.ewm(span=self.macd_fast, adjust=False).mean() - close.ewm(span=self.macd_slow, adjust=False).mean()
        signal_line = macd_line.ewm(span=self.macd_signal, adjust=False).mean()

        # Register indicators
        self.ema_short = self.I(lambda: ema_short)
        self.ema_long = self.I(lambda: ema_long)
        self.macd_line = self.I(lambda: macd_line)
        self.signal_line = self.I(lambda: signal_line)
        self.adx = self.I(self.calculate_adx, high, low, close, self.adx_period)
        self.atr = self.I(self.calculate_atr, high, low, close, self.atr_period)

    def calculate_atr(self, high, low, close, period):
        tr1 = high - low
        tr2 = abs(high - close.shift())
        tr3 = abs(low - close.shift())
        tr = pd.concat([tr1, tr2, tr3], axis=1).max(axis=1)
        return tr.rolling(period).mean()

    def calculate_adx(self, high, low, close, period):
        plus_dm = high.diff()
        minus_dm = -low.diff()
        plus_dm[plus_dm < 0] = 0
        minus_dm[minus_dm < 0] = 0

        tr1 = high - low
        tr2 = abs(high - close.shift())
        tr3 = abs(low - close.shift())
        tr = pd.concat([tr1, tr2, tr3], axis=1).max(axis=1)
        atr = tr.rolling(period).mean()

        plus_di = 100 * (plus_dm.rolling(period).sum() / atr)
        minus_di = 100 * (minus_dm.rolling(period).sum() / atr)
        dx = 100 * abs(plus_di - minus_di) / (plus_di + minus_di)
        adx = dx.rolling(period).mean()
        return adx

    def next(self):
        price = self.data.Close[-1]
        ema_s = self.ema_short[-1]
        ema_l = self.ema_long[-1]
        macd = self.macd_line[-1]
        signal = self.signal_line[-1]
        adx_val = self.adx[-1]
        atr_val = self.atr[-1]

        if not self.position:
            if ema_s > ema_l and macd > signal and adx_val > self.adx_threshold:
                sl = price - self.atr_mult_sl * atr_val
                tp = price + self.atr_mult_tp * atr_val
                self.buy(sl=sl, tp=tp)

        elif ema_s < ema_l or macd < signal or adx_val < self.adx_threshold:
            self.position.close()

# Run the backtest
bt = Backtest(GOOG, ImprovedHybridStrategy, cash=100_000, commission=0.002, exclusive_orders=True)
stats = bt.run()
bt.plot()
print(stats)
